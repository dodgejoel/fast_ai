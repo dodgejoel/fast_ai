{
 "cells": [
  {
   "cell_type": "markdown",
   "metadata": {},
   "source": [
    "## Prepare data\n",
    "\n",
    "These are some utility functions to prepare validation sets as well as a sample form of the data."
   ]
  },
  {
   "cell_type": "code",
   "execution_count": 73,
   "metadata": {
    "collapsed": true
   },
   "outputs": [],
   "source": [
    "import os\n",
    "import random\n",
    "import shutil\n",
    "from Queue import Queue\n",
    "from os import path\n",
    "\n",
    "proot = '/home/ubuntu/nbs/data/statefarm/'\n",
    "sampleroot = '/home/ubuntu/nbs/data/statefarm/sample'\n",
    "random.seed(57)"
   ]
  },
  {
   "cell_type": "code",
   "execution_count": 77,
   "metadata": {
    "collapsed": false
   },
   "outputs": [],
   "source": [
    "def make_validation_set(proot, p=.1):\n",
    "    assert 'valid' not in os.listdir(proot)\n",
    "    assert 'train' in os.listdir(proot)\n",
    "    for class_ in os.listdir(path.join(proot, 'train')):\n",
    "        os.makedirs(path.join(proot, 'valid', class_))\n",
    "        imgs = os.listdir(path.join(proot, 'train', class_))\n",
    "        take = int(p * len(imgs))\n",
    "        random.shuffle(imgs)\n",
    "        for img in imgs[:take]:\n",
    "            src = path.join(proot, 'train', class_, img)\n",
    "            dest = path.join(proot, 'valid', class_, img)\n",
    "            print('moving from %s to %s' % (src, dest))\n",
    "            shutil.move(src, dest)\n",
    "\n",
    "def make_sample(proot, num):\n",
    "    # copy src tree to dest copying all directories but\n",
    "    # downsampling all non-directory files to take at most num per dir\n",
    "    setd = set(os.listdir(proot))\n",
    "    assert 'sample' not in setd\n",
    "    to_cp = ['train', 'valid']\n",
    "    for d in to_cp:\n",
    "        assert d in setd\n",
    "    assert 'test' in setd\n",
    "        \n",
    "    for d in to_cp:\n",
    "        for class_ in os.listdir(path.join(proot, d)):\n",
    "            os.makedirs(path.join(proot, 'sample', d, class_))\n",
    "            chosen = random.sample(os.listdir(path.join(proot, d, class_)), num)\n",
    "            for f in chosen:\n",
    "                src = path.join(proot, d, class_, f)\n",
    "                dest = path.join(proot, 'sample', d, class_, f)\n",
    "                print('copying %s to %s' % (src, dest))\n",
    "                shutil.copy(src, dest)\n",
    "                \n",
    "    os.makedirs(path.join(proot, 'sample', 'test'))\n",
    "    for f in random.sample(os.listdir(path.join(proot, 'test')), num):\n",
    "        src = path.join(proot, 'test', f)\n",
    "        dest = path.join(proot, 'sample', 'test', f)\n",
    "        print('copying %s to %s' %(src, dest))\n",
    "        shutil.copy(src, dest)"
   ]
  }
 ],
 "metadata": {
  "anaconda-cloud": {},
  "kernelspec": {
   "display_name": "Python [conda root]",
   "language": "python",
   "name": "conda-root-py"
  },
  "language_info": {
   "codemirror_mode": {
    "name": "ipython",
    "version": 2
   },
   "file_extension": ".py",
   "mimetype": "text/x-python",
   "name": "python",
   "nbconvert_exporter": "python",
   "pygments_lexer": "ipython2",
   "version": "2.7.12"
  }
 },
 "nbformat": 4,
 "nbformat_minor": 1
}
